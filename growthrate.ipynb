{
 "cells": [
  {
   "cell_type": "code",
   "execution_count": 8,
   "metadata": {
    "scrolled": true
   },
   "outputs": [
    {
     "data": {
      "application/vnd.jupyter.widget-view+json": {
       "model_id": "b07147ce434f4a02a20be3abc150d345",
       "version_major": 2,
       "version_minor": 0
      },
      "text/plain": [
       "interactive(children=(FloatSlider(value=0.04, description='beta', max=4.0, min=0.001, step=0.05), FloatSlider(…"
      ]
     },
     "metadata": {},
     "output_type": "display_data"
    }
   ],
   "source": [
    "import numpy as np\n",
    "import matplotlib.pyplot as plt\n",
    "from ipywidgets import interact\n",
    "\n",
    "beta=0.5\n",
    "gamma=0.1\n",
    "\n",
    "# t=np.linspace(0,20,5000)\n",
    "dt=t[1]-t[0]\n",
    "\n",
    "def SIR(beta=0.04,gamma=0.01):\n",
    "    t=np.linspace(0,4,5000)\n",
    "    S= t**2 * beta\n",
    "    I= t**3 * gamma\n",
    "    R= t**4-beta\n",
    "    \n",
    "#     S=np.zeros(len(t))\n",
    "#     I=np.zeros(len(t))\n",
    "#     R=np.zeros(len(t))\n",
    "\n",
    "#     S[0]=0.99\n",
    "#     I[0]=1-S[0]\n",
    "\n",
    "#     for i_t in range(len(t)-1):\n",
    "#         dS= - beta*I[i_t]*S[i_t]*dt\n",
    "#         dI= beta*I[i_t]*S[i_t]*dt-gamma*I[i_t]*dt\n",
    "#         dR= gamma*I[i_t]*dt\n",
    "#         S[i_t+1]=dS+ S[i_t]\n",
    "#         I[i_t+1]=dI+ I[i_t]\n",
    "#         R[i_t+1]=dR+ R[i_t]\n",
    "\n",
    "    plt.figure()\n",
    "    plt.plot(t,S,label='Susceptible')\n",
    "    plt.plot(t,I,label='Infectious')\n",
    "    plt.plot(t,R,label='Recovered')\n",
    "#     plt.semilogy(t,S,label='Susceptible')\n",
    "#     plt.semilogy(t,I,label='Infectious')\n",
    "#     plt.semilogy(t,R,label='Recovered')\n",
    "#     plt.ylim(0.01,1)\n",
    "    plt.legend()\n",
    "    plt.title('R0=%.2f' % (beta/gamma))\n",
    "    plt.show()\n",
    "    \n",
    "interact(SIR, beta=(0.001,4,0.05), gamma=(0.001,1,0.05));"
   ]
  },
  {
   "cell_type": "code",
   "execution_count": null,
   "metadata": {},
   "outputs": [],
   "source": []
  }
 ],
 "metadata": {
  "kernelspec": {
   "display_name": "Python 3",
   "language": "python",
   "name": "python3"
  },
  "language_info": {
   "codemirror_mode": {
    "name": "ipython",
    "version": 3
   },
   "file_extension": ".py",
   "mimetype": "text/x-python",
   "name": "python",
   "nbconvert_exporter": "python",
   "pygments_lexer": "ipython3",
   "version": "3.6.4"
  }
 },
 "nbformat": 4,
 "nbformat_minor": 2
}
